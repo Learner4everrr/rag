{
 "cells": [
  {
   "cell_type": "code",
   "execution_count": 4,
   "id": "d8b8ba54-2d95-438e-a627-f0e9956bc859",
   "metadata": {},
   "outputs": [],
   "source": [
    "import json\n",
    "import random\n",
    "\n",
    "def load_data(file_path):\n",
    "    with open(file_path, 'r') as file:\n",
    "        return json.load(file)\n",
    "\n",
    "def save_data(data, file_path):\n",
    "    with open(file_path, 'w') as file:\n",
    "        json.dump(data, file)\n",
    "\n",
    "def modify_triples(data, modification_rate=0.2):\n",
    "    # Collect all relations from the data\n",
    "    all_relations = set()\n",
    "    for entry in data:\n",
    "        for triple in entry['triple_list']:\n",
    "            all_relations.add(triple[1])\n",
    "    \n",
    "    # Convert set to list to use in random choice\n",
    "    all_relations = list(all_relations)\n",
    "\n",
    "    num_to_modify = int(len(data) * modification_rate)\n",
    "    indices_to_modify = random.sample(range(len(data)), num_to_modify)\n",
    "\n",
    "    for index in indices_to_modify:\n",
    "        entry = data[index]\n",
    "        sentence_words = entry['text'].split()\n",
    "        \n",
    "        for i, triple in enumerate(entry['triple_list']):\n",
    "            # Randomly choose a new relation from the list of all relations\n",
    "            new_relation = random.choice([rel for rel in all_relations if rel != triple[1]])\n",
    "            # Randomly change head or tail entity\n",
    "            if random.choice([True, False]):\n",
    "                # Change head entity\n",
    "                new_head = random.choice(sentence_words)\n",
    "                data[index]['triple_list'][i][0] = new_head\n",
    "            else:\n",
    "                # Change tail entity\n",
    "                new_tail = random.choice(sentence_words)\n",
    "                data[index]['triple_list'][i][2] = new_tail\n",
    "            # Assign new relation\n",
    "            data[index]['triple_list'][i][1] = new_relation\n",
    "\n",
    "    return data\n",
    "\n",
    "# Example usage\n",
    "file_path = '../train.json'\n",
    "\n",
    "# data = load_data(file_path)\n",
    "# modified_data = modify_triples(data, modification_rate=0.2)\n",
    "# save_data(modified_data, 'train_20.json')\n",
    "\n",
    "data = load_data(file_path)\n",
    "modified_data = modify_triples(data, modification_rate=0.8)\n",
    "save_data(modified_data, 'train_80.json')\n",
    "\n",
    "data = load_data(file_path)\n",
    "modified_data = modify_triples(data, modification_rate=1)\n",
    "save_data(modified_data, 'train_100.json')"
   ]
  },
  {
   "cell_type": "code",
   "execution_count": null,
   "id": "3bf0ee71-17ad-4aff-9b1b-75983eb74ef2",
   "metadata": {},
   "outputs": [],
   "source": []
  },
  {
   "cell_type": "code",
   "execution_count": null,
   "id": "89be281a-99c3-409f-aa82-5a4aa20f005e",
   "metadata": {},
   "outputs": [],
   "source": []
  },
  {
   "cell_type": "code",
   "execution_count": null,
   "id": "095b1374-5ad9-4292-89f7-151dc1e5abe3",
   "metadata": {},
   "outputs": [],
   "source": []
  },
  {
   "cell_type": "code",
   "execution_count": null,
   "id": "b29dc852-67c8-487c-8e61-20724db0865d",
   "metadata": {},
   "outputs": [],
   "source": []
  },
  {
   "cell_type": "code",
   "execution_count": 3,
   "id": "c3d0b9dd-b16f-44ba-9d63-478f2372525c",
   "metadata": {},
   "outputs": [],
   "source": [
    "import json\n",
    "sentences=[]\n",
    "with open('train_20.json') as fr:\n",
    "    for line in fr.readlines():\n",
    "        line=json.loads(line.strip())\n",
    "        for li in line:\n",
    "            if li[\"triple_list\"][0][1]!=\"None\":\n",
    "                sentences.append(\"context: \"+li[\"text\"] + \"response: \"+ \"|\".join(li[\"triple_list\"][0]))"
   ]
  },
  {
   "cell_type": "code",
   "execution_count": null,
   "id": "e36c5ec7-f021-41b0-854a-7d3bc1308ea9",
   "metadata": {},
   "outputs": [],
   "source": []
  }
 ],
 "metadata": {
  "kernelspec": {
   "display_name": "Python 3 (ipykernel)",
   "language": "python",
   "name": "python3"
  },
  "language_info": {
   "codemirror_mode": {
    "name": "ipython",
    "version": 3
   },
   "file_extension": ".py",
   "mimetype": "text/x-python",
   "name": "python",
   "nbconvert_exporter": "python",
   "pygments_lexer": "ipython3",
   "version": "3.11.5"
  }
 },
 "nbformat": 4,
 "nbformat_minor": 5
}
